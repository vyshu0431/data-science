{
 "cells": [
  {
   "cell_type": "code",
   "execution_count": 1,
   "id": "b9fc94a1",
   "metadata": {},
   "outputs": [
    {
     "name": "stdout",
     "output_type": "stream",
     "text": [
      "1\n",
      "1 2\n",
      "1 2 3\n",
      "1 2 3 4\n",
      "1 2 3 4 5\n",
      "1 2 3 4 5 6\n"
     ]
    }
   ],
   "source": [
    "x=6\n",
    "b=1\n",
    "a=0\n",
    "while x:\n",
    "    a=a*10+(b)\n",
    "    print(\" \".join(str(a)))\n",
    "    x=x-1\n",
    "    b+=1"
   ]
  },
  {
   "cell_type": "code",
   "execution_count": 2,
   "id": "c1271f4b",
   "metadata": {},
   "outputs": [
    {
     "name": "stdout",
     "output_type": "stream",
     "text": [
      "A\n",
      "A B\n",
      "A B C\n",
      "A B C D\n",
      "A B C D E\n",
      "A B C D E F\n"
     ]
    }
   ],
   "source": [
    "x=6\n",
    "a=\"\"\n",
    "while x:\n",
    "    a=a+chr(71-x)\n",
    "    print(\" \".join(a))\n",
    "    x-=1"
   ]
  },
  {
   "cell_type": "code",
   "execution_count": 3,
   "id": "16631065",
   "metadata": {},
   "outputs": [
    {
     "name": "stdout",
     "output_type": "stream",
     "text": [
      "A\n",
      "A B\n",
      "A B C\n",
      "A B C D\n",
      "A B C D E\n",
      "A B C D E F\n"
     ]
    }
   ],
   "source": [
    "x=6\n",
    "a=\"\"\n",
    "while x:\n",
    "    a=a+chr(71-x)\n",
    "    print(\" \".join(a))\n",
    "    x-=1"
   ]
  },
  {
   "cell_type": "code",
   "execution_count": 4,
   "id": "7c003971",
   "metadata": {},
   "outputs": [
    {
     "name": "stdout",
     "output_type": "stream",
     "text": [
      "*\n",
      "* *\n",
      "* * *\n",
      "* * * *\n",
      "* * * * *\n",
      "* * * * * *\n"
     ]
    }
   ],
   "source": [
    "x=6\n",
    "while x:\n",
    "    print(\" \".join((7-x)*\"*\"))\n",
    "    x-=1"
   ]
  },
  {
   "cell_type": "code",
   "execution_count": 5,
   "id": "d7408cec",
   "metadata": {},
   "outputs": [
    {
     "name": "stdout",
     "output_type": "stream",
     "text": [
      "1\n",
      "2 2\n",
      "3 3 3\n",
      "4 4 4 4\n",
      "5 5 5 5 5\n",
      "6 6 6 6 6 6\n"
     ]
    }
   ],
   "source": [
    "x=6\n",
    "while x:\n",
    "    print(\" \".join((7-x)*str((7-x))))\n",
    "    x-=1"
   ]
  },
  {
   "cell_type": "code",
   "execution_count": 6,
   "id": "47bfef24",
   "metadata": {},
   "outputs": [
    {
     "name": "stdout",
     "output_type": "stream",
     "text": [
      "A\n",
      "B B\n",
      "C C C\n",
      "D D D D\n",
      "E E E E E\n",
      "F F F F F F\n"
     ]
    }
   ],
   "source": [
    "x=6\n",
    "while x:\n",
    "    print(\" \".join((7-x)*chr(71-x)))\n",
    "    x-=1"
   ]
  },
  {
   "cell_type": "code",
   "execution_count": 7,
   "id": "11652870",
   "metadata": {},
   "outputs": [
    {
     "name": "stdout",
     "output_type": "stream",
     "text": [
      "            *\n",
      "          * *\n",
      "        * * *\n",
      "      * * * *\n",
      "    * * * * *\n",
      "  * * * * * *\n"
     ]
    }
   ],
   "source": [
    "x=6\n",
    "while x:\n",
    "    print(\" \".join((x)*\" \"+(7-x)*\"*\"))\n",
    "    x-=1"
   ]
  },
  {
   "cell_type": "code",
   "execution_count": 8,
   "id": "079c8468",
   "metadata": {},
   "outputs": [
    {
     "name": "stdout",
     "output_type": "stream",
     "text": [
      "         1          \n",
      "        1 2         \n",
      "       1 2 3        \n",
      "      1 2 3 4       \n",
      "     1 2 3 4 5      \n",
      "    1 2 3 4 5 6     \n"
     ]
    }
   ],
   "source": [
    "x=6\n",
    "b=1\n",
    "a=0\n",
    "while x:\n",
    "    a=a*10+(b)\n",
    "    print(\" \".join(str(a)).center(20,\" \"))\n",
    "    x=x-1\n",
    "    b+=1"
   ]
  },
  {
   "cell_type": "code",
   "execution_count": 9,
   "id": "c861e193",
   "metadata": {},
   "outputs": [
    {
     "name": "stdout",
     "output_type": "stream",
     "text": [
      "          5         \n",
      "         4 5        \n",
      "        3 4 5       \n",
      "       2 3 4 5      \n",
      "      1 2 3 4 5     \n"
     ]
    }
   ],
   "source": [
    "x=5\n",
    "a=\"\"\n",
    "while x:\n",
    "    a=\" \"+str(x)+a\n",
    "    print(a.center(20,\" \"))\n",
    "    x-=1"
   ]
  },
  {
   "cell_type": "code",
   "execution_count": 10,
   "id": "5146d1fc",
   "metadata": {},
   "outputs": [
    {
     "name": "stdout",
     "output_type": "stream",
     "text": [
      "         A          \n",
      "        A B         \n",
      "       A B C        \n",
      "      A B C D       \n",
      "     A B C D E      \n",
      "    A B C D E F     \n"
     ]
    }
   ],
   "source": [
    "x=6\n",
    "a=\"\"\n",
    "while x:\n",
    "    a=a+chr(71-x)\n",
    "    print(\" \".join(a).center(20,\" \"))\n",
    "    x-=1"
   ]
  },
  {
   "cell_type": "code",
   "execution_count": 11,
   "id": "210c3de7",
   "metadata": {},
   "outputs": [
    {
     "name": "stdout",
     "output_type": "stream",
     "text": [
      "         E          \n",
      "        D E         \n",
      "       C D E        \n",
      "      B C D E       \n",
      "     A B C D E      \n"
     ]
    }
   ],
   "source": [
    "x=5\n",
    "a=\"\"\n",
    "while x:\n",
    "    a=chr(64+x)+a\n",
    "    print(\" \".join(a).center(20,\" \"))\n",
    "    x-=1"
   ]
  },
  {
   "cell_type": "code",
   "execution_count": 12,
   "id": "729b3862",
   "metadata": {},
   "outputs": [
    {
     "name": "stdout",
     "output_type": "stream",
     "text": [
      "         *          \n",
      "        ***         \n",
      "       *****        \n",
      "      *******       \n",
      "     *********      \n"
     ]
    }
   ],
   "source": [
    "x=10\n",
    "a=\"\"\n",
    "while x:\n",
    "    if (11-x)%2!=0:\n",
    "        a=(11-x)*\"*\"\n",
    "        print(a.center(20,\" \"))\n",
    "    x=x-1"
   ]
  },
  {
   "cell_type": "code",
   "execution_count": 13,
   "id": "aa185d04",
   "metadata": {},
   "outputs": [
    {
     "name": "stdout",
     "output_type": "stream",
     "text": [
      "         1          \n",
      "        2 2         \n",
      "       3 3 3        \n",
      "      4 4 4 4       \n",
      "     5 5 5 5 5      \n",
      "    6 6 6 6 6 6     \n"
     ]
    }
   ],
   "source": [
    "x=6\n",
    "while x:\n",
    "    print(\" \".join((7-x)*str((7-x))).center(20,\" \"))\n",
    "    x-=1"
   ]
  },
  {
   "cell_type": "code",
   "execution_count": 14,
   "id": "2a9e520c",
   "metadata": {},
   "outputs": [
    {
     "name": "stdout",
     "output_type": "stream",
     "text": [
      "         A          \n",
      "        B B         \n",
      "       C C C        \n",
      "      D D D D       \n",
      "     E E E E E      \n",
      "    F F F F F F     \n"
     ]
    }
   ],
   "source": [
    "x=6\n",
    "while x:\n",
    "    print(\" \".join((7-x)*chr(71-x)).center(20,\" \"))\n",
    "    x-=1"
   ]
  },
  {
   "cell_type": "code",
   "execution_count": 15,
   "id": "9e6cd2e9",
   "metadata": {},
   "outputs": [
    {
     "name": "stdout",
     "output_type": "stream",
     "text": [
      "1 2 3 4 5 6\n",
      "1 2 3 4 5\n",
      "1 2 3 4\n",
      "1 2 3\n",
      "1 2\n",
      "1\n"
     ]
    }
   ],
   "source": [
    "x=6\n",
    "while x:\n",
    "    a=\"\"\n",
    "    b=x\n",
    "    while b:\n",
    "        a=a+str((x+1)-b)\n",
    "        \n",
    "        b-=1\n",
    "    print(\" \".join(a))\n",
    "    x-=1"
   ]
  },
  {
   "cell_type": "code",
   "execution_count": 16,
   "id": "20a5b7a4",
   "metadata": {},
   "outputs": [
    {
     "name": "stdout",
     "output_type": "stream",
     "text": [
      "5 4 3 2 1\n",
      "5 4 3 2\n",
      "5 4 3\n",
      "5 4\n",
      "5\n"
     ]
    }
   ],
   "source": [
    "x=5\n",
    "while x:\n",
    "    a=\"\"\n",
    "    b=x\n",
    "    while b:\n",
    "        a=a+str(6-(x-b)-1)\n",
    "        b-=1\n",
    "    print(\" \".join(a))\n",
    "    x-=1"
   ]
  },
  {
   "cell_type": "code",
   "execution_count": 17,
   "id": "7a8a903b",
   "metadata": {},
   "outputs": [
    {
     "name": "stdout",
     "output_type": "stream",
     "text": [
      "5\n",
      "5 4\n",
      "5 4 3\n",
      "5 4 3 2\n",
      "5 4 3 2 1\n"
     ]
    }
   ],
   "source": [
    "x=5\n",
    "a=\"\"\n",
    "while x:\n",
    "    a=a+str(x)\n",
    "    print(\" \".join(a))\n",
    "    x-=1"
   ]
  },
  {
   "cell_type": "code",
   "execution_count": 18,
   "id": "4e3a0971",
   "metadata": {},
   "outputs": [
    {
     "name": "stdout",
     "output_type": "stream",
     "text": [
      "1 \n",
      "2 3 \n",
      "4 5 6 \n",
      "7 8 9 10 \n",
      "11 12 13 14 15 \n"
     ]
    }
   ],
   "source": [
    "x=5\n",
    "num=0\n",
    "while x:\n",
    "    a=\"\"\n",
    "    b=(6-x)\n",
    "    while b:\n",
    "        num+=1\n",
    "        a=a+str(num)+\" \"\n",
    "        b-=1\n",
    "    print(a)\n",
    "    x-=1"
   ]
  },
  {
   "cell_type": "code",
   "execution_count": 19,
   "id": "5621038b",
   "metadata": {},
   "outputs": [
    {
     "name": "stdout",
     "output_type": "stream",
     "text": [
      "A B C D E\n",
      "A B C D\n",
      "A B C\n",
      "A B\n",
      "A\n"
     ]
    }
   ],
   "source": [
    "x=5\n",
    "while x:\n",
    "    a=\"\"\n",
    "    b=x\n",
    "    while b:\n",
    "        a=a+chr(70-(6-(x-b)-1))\n",
    "        b-=1\n",
    "    print(\" \".join(a))\n",
    "    x-=1"
   ]
  },
  {
   "cell_type": "code",
   "execution_count": 20,
   "id": "24239bd5",
   "metadata": {},
   "outputs": [
    {
     "name": "stdout",
     "output_type": "stream",
     "text": [
      "******\n",
      "*****\n",
      "****\n",
      "***\n",
      "**\n",
      "*\n"
     ]
    }
   ],
   "source": [
    "x=6\n",
    "while x:\n",
    "    print(x*\"*\")\n",
    "    x-=1"
   ]
  },
  {
   "cell_type": "code",
   "execution_count": 21,
   "id": "017db841",
   "metadata": {},
   "outputs": [
    {
     "name": "stdout",
     "output_type": "stream",
     "text": [
      " ******\n",
      "  *****\n",
      "   ****\n",
      "    ***\n",
      "     **\n",
      "      *\n"
     ]
    }
   ],
   "source": [
    "x=6\n",
    "while x:\n",
    "    print((7-x)*\" \"+(x)*\"*\")\n",
    "    x-=1"
   ]
  },
  {
   "cell_type": "code",
   "execution_count": 22,
   "id": "364970d6",
   "metadata": {},
   "outputs": [
    {
     "name": "stdout",
     "output_type": "stream",
     "text": [
      "*\n",
      "**\n",
      "***\n",
      "****\n",
      "*****\n",
      "****\n",
      "***\n",
      "**\n",
      "*\n"
     ]
    }
   ],
   "source": [
    "x=6\n",
    "b=x-2\n",
    "while x:\n",
    "    if x==1:\n",
    "        while b:\n",
    "            print((b)*\"*\")\n",
    "            b-=1\n",
    "    else:\n",
    "        print((7-x)*\"*\")\n",
    "    x-=1"
   ]
  },
  {
   "cell_type": "code",
   "execution_count": null,
   "id": "31ab125a",
   "metadata": {},
   "outputs": [],
   "source": []
  }
 ],
 "metadata": {
  "hide_input": false,
  "kernelspec": {
   "display_name": "Python 3 (ipykernel)",
   "language": "python",
   "name": "python3"
  },
  "language_info": {
   "codemirror_mode": {
    "name": "ipython",
    "version": 3
   },
   "file_extension": ".py",
   "mimetype": "text/x-python",
   "name": "python",
   "nbconvert_exporter": "python",
   "pygments_lexer": "ipython3",
   "version": "3.9.13"
  },
  "toc": {
   "base_numbering": 1,
   "nav_menu": {},
   "number_sections": true,
   "sideBar": true,
   "skip_h1_title": false,
   "title_cell": "Table of Contents",
   "title_sidebar": "Contents",
   "toc_cell": false,
   "toc_position": {},
   "toc_section_display": true,
   "toc_window_display": false
  }
 },
 "nbformat": 4,
 "nbformat_minor": 5
}
