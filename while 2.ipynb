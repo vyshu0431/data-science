{
 "cells": [
  {
   "cell_type": "code",
   "execution_count": 1,
   "id": "7b75576b",
   "metadata": {},
   "outputs": [
    {
     "name": "stdout",
     "output_type": "stream",
     "text": [
      "      *\n",
      "     **\n",
      "    ***\n",
      "   ****\n",
      "  *****\n",
      " ******\n",
      "  *****\n",
      "   ****\n",
      "    ***\n",
      "     **\n",
      "      *\n"
     ]
    }
   ],
   "source": [
    "x=6\n",
    "b=x\n",
    "while x:\n",
    "    if x==6:\n",
    "        while b:\n",
    "            print((b)*\" \"+(7-b)*\"*\")\n",
    "            b-=1\n",
    "    else:\n",
    "        print((7-x)*\" \"+(x)*\"*\")\n",
    "    x-=1"
   ]
  },
  {
   "cell_type": "code",
   "execution_count": 2,
   "id": "9ab4a47a",
   "metadata": {},
   "outputs": [
    {
     "name": "stdout",
     "output_type": "stream",
     "text": [
      " ******\n",
      "  *****\n",
      "   ****\n",
      "    ***\n",
      "     **\n",
      "      *\n",
      "     **\n",
      "    ***\n",
      "   ****\n",
      "  *****\n",
      " ******\n"
     ]
    }
   ],
   "source": [
    "x=6\n",
    "b=x\n",
    "while x:\n",
    "    if x==6:\n",
    "        while b:\n",
    "            print((7-b)*\" \"+(b)*\"*\")\n",
    "            b-=1\n",
    "    else:\n",
    "        print((x)*\" \"+(7-x)*\"*\")\n",
    "    x-=1"
   ]
  },
  {
   "cell_type": "code",
   "execution_count": 3,
   "id": "9d7d8ecc",
   "metadata": {},
   "outputs": [
    {
     "name": "stdout",
     "output_type": "stream",
     "text": [
      "     *********      \n",
      "      *******       \n",
      "       *****        \n",
      "        ***         \n",
      "         *          \n",
      "        ***         \n",
      "       *****        \n",
      "      *******       \n",
      "     *********      \n"
     ]
    }
   ],
   "source": [
    "x=10\n",
    "b=x\n",
    "while x:\n",
    "    if x%2!=0:\n",
    "        if x==1:\n",
    "            while b:\n",
    "                if (11-b)%2!=0:\n",
    "                    a=(11-b)*\"*\"\n",
    "                    print(a.center(20,\" \"))\n",
    "                b-=1\n",
    "        else:\n",
    "            a=x*\"*\"\n",
    "            print(a.center(20,\" \"))\n",
    "    x-=1"
   ]
  },
  {
   "cell_type": "code",
   "execution_count": 4,
   "id": "9967a647",
   "metadata": {},
   "outputs": [
    {
     "name": "stdout",
     "output_type": "stream",
     "text": [
      "*          *\n",
      "**        **\n",
      "***      ***\n",
      "****    ****\n",
      "*****  *****\n",
      "************\n"
     ]
    }
   ],
   "source": [
    "x=6\n",
    "while x:\n",
    "    print((7-x)*\"*\"+\" \"*(7-((7-x)+1))+\" \"*(7-((7-x)+1))+(7-x)*\"*\")\n",
    "    x-=1"
   ]
  },
  {
   "cell_type": "code",
   "execution_count": 5,
   "id": "dc78d65c",
   "metadata": {},
   "outputs": [
    {
     "name": "stdout",
     "output_type": "stream",
     "text": [
      "************\n",
      "*****  *****\n",
      "****    ****\n",
      "***      ***\n",
      "**        **\n",
      "*          *\n"
     ]
    }
   ],
   "source": [
    "x=6\n",
    "while x:\n",
    "    print((x)*\"*\"+\" \"*(7-x-1)+\" \"*(7-x-1)+(x)*\"*\")\n",
    "    x-=1"
   ]
  },
  {
   "cell_type": "code",
   "execution_count": 6,
   "id": "06c220b0",
   "metadata": {},
   "outputs": [
    {
     "name": "stdout",
     "output_type": "stream",
     "text": [
      "*          *\n",
      "**        **\n",
      "***      ***\n",
      "****    ****\n",
      "*****  *****\n",
      "************\n",
      "*****  *****\n",
      "****    ****\n",
      "***      ***\n",
      "**        **\n",
      "*          *\n"
     ]
    }
   ],
   "source": [
    "x=6\n",
    "b=x\n",
    "while x:\n",
    "    if x==1:\n",
    "        while b:\n",
    "            print((b)*\"*\"+\" \"*(7-b-1)+\" \"*(7-b-1)+(b)*\"*\")\n",
    "            b-=1\n",
    "    else:\n",
    "        print((7-x)*\"*\"+\" \"*(7-((7-x)+1))+\" \"*(7-((7-x)+1))+(7-x)*\"*\")\n",
    "    x-=1"
   ]
  },
  {
   "cell_type": "code",
   "execution_count": 7,
   "id": "c9ef5e8d",
   "metadata": {},
   "outputs": [
    {
     "name": "stdout",
     "output_type": "stream",
     "text": [
      "************\n",
      "*****  *****\n",
      "****    ****\n",
      "***      ***\n",
      "**        **\n",
      "*          *\n",
      "**        **\n",
      "***      ***\n",
      "****    ****\n",
      "*****  *****\n",
      "************\n"
     ]
    }
   ],
   "source": [
    "x=6\n",
    "b=x\n",
    "while x:\n",
    "    if (7-x)==1:\n",
    "        while b:\n",
    "            print((b)*\"*\"+\" \"*(7-b-1)+\" \"*(7-b-1)+(b)*\"*\")\n",
    "            b-=1\n",
    "    else:\n",
    "        print((7-x)*\"*\"+\" \"*(7-((7-x)+1))+\" \"*(7-((7-x)+1))+(7-x)*\"*\")\n",
    "    x-=1"
   ]
  },
  {
   "cell_type": "code",
   "execution_count": 8,
   "id": "2b85bd93",
   "metadata": {},
   "outputs": [
    {
     "name": "stdout",
     "output_type": "stream",
     "text": [
      "*\n",
      "**\n",
      "* *\n",
      "*  *\n",
      "*   *\n",
      "******\n"
     ]
    }
   ],
   "source": [
    "x=6\n",
    "while x:\n",
    "    if x==6:\n",
    "        print((7-x)*\"*\")\n",
    "    elif x==1:\n",
    "        print((x+5)*\"*\")\n",
    "    else:\n",
    "        print(\"*\"+(7-x-2)*\" \"+\"*\")\n",
    "    x-=1"
   ]
  },
  {
   "cell_type": "code",
   "execution_count": 9,
   "id": "23b3ed7b",
   "metadata": {},
   "outputs": [
    {
     "name": "stdout",
     "output_type": "stream",
     "text": [
      "******\n",
      "*   *\n",
      "*  *\n",
      "* *\n",
      "**\n",
      "*\n"
     ]
    }
   ],
   "source": [
    "x=6\n",
    "while x:\n",
    "    if x==6 or x==1:\n",
    "        print(x*\"*\")\n",
    "    else:\n",
    "        print(\"*\"+(x-2)*\" \"+\"*\")\n",
    "    x-=1"
   ]
  },
  {
   "cell_type": "code",
   "execution_count": 10,
   "id": "de417e96",
   "metadata": {},
   "outputs": [
    {
     "name": "stdout",
     "output_type": "stream",
     "text": [
      "      *\n",
      "     **\n",
      "    * *\n",
      "   *  *\n",
      "  *   *\n",
      " ******\n"
     ]
    }
   ],
   "source": [
    "x=6\n",
    "while x:\n",
    "    if x==6:\n",
    "        print(x*\" \"+(7-x)*\"*\")\n",
    "    elif x==1:\n",
    "        print(x*\" \"+(x+5)*\"*\")\n",
    "    else:\n",
    "        print(x*\" \"+\"*\"+(7-x-2)*\" \"+\"*\")\n",
    "    x-=1"
   ]
  },
  {
   "cell_type": "code",
   "execution_count": 12,
   "id": "e83bb5fc",
   "metadata": {},
   "outputs": [
    {
     "name": "stdout",
     "output_type": "stream",
     "text": [
      "******\n",
      "*   *\n",
      "*  *\n",
      "* *\n",
      "**\n",
      "*\n",
      "**\n",
      "* *\n",
      "*  *\n",
      "*   *\n",
      "******\n"
     ]
    }
   ],
   "source": [
    "x=6\n",
    "b=x\n",
    "while x:\n",
    "    if x==6:\n",
    "        print(x*\"*\")\n",
    "    elif x==1:\n",
    "        while b:\n",
    "            if b==6:\n",
    "                print((7-b)*\"*\")\n",
    "            elif b==1:\n",
    "                print((b+5)*\"*\")\n",
    "            else:\n",
    "                print(\"*\"+(7-b-2)*\" \"+\"*\")\n",
    "            b-=1\n",
    "    else:\n",
    "        print(\"*\"+(x-2)*\" \"+\"*\")\n",
    "    x-=1"
   ]
  },
  {
   "cell_type": "code",
   "execution_count": 13,
   "id": "fb65f9b5",
   "metadata": {},
   "outputs": [
    {
     "name": "stdout",
     "output_type": "stream",
     "text": [
      "      *\n",
      "     **\n",
      "    * *\n",
      "   *  *\n",
      "  *   *\n",
      " *    *\n",
      "  *   *\n",
      "   *  *\n",
      "    * *\n",
      "     **\n",
      "      *\n"
     ]
    }
   ],
   "source": [
    "x=6\n",
    "b=x\n",
    "while x:\n",
    "    if x==6:\n",
    "        print(x*\" \"+(7-x)*\"*\")\n",
    "    elif x==1:\n",
    "#         x=5\n",
    "        while b:\n",
    "            if b==1:\n",
    "                print((7-b)*\" \"+b*\"*\")\n",
    "            else:\n",
    "                print((7-b)*\" \"+\"*\"+(b-2)*\" \"+\"*\")\n",
    "            b-=1\n",
    "    else:\n",
    "        print(x*\" \"+\"*\"+(7-x-2)*\" \"+\"*\")\n",
    "    x-=1"
   ]
  },
  {
   "cell_type": "code",
   "execution_count": 14,
   "id": "52748444",
   "metadata": {},
   "outputs": [
    {
     "name": "stdout",
     "output_type": "stream",
     "text": [
      " ******\n",
      "  *   *\n",
      "   *  *\n",
      "    * *\n",
      "     **\n",
      "      *\n",
      "     **\n",
      "    * *\n",
      "   *  *\n",
      "  *   *\n",
      " ******\n"
     ]
    }
   ],
   "source": [
    "x=6\n",
    "b=x\n",
    "while x:\n",
    "    if x==6:\n",
    "        print((7-x)*\" \"+x*\"*\")\n",
    "    elif x==1:\n",
    "        while b:\n",
    "            if b==6:\n",
    "                print((b)*\" \"+(7-b)*\"*\")\n",
    "            elif b==1:\n",
    "                print((b)*\" \"+(b+5)*\"*\")\n",
    "            else:\n",
    "                print((b)*\" \"+\"*\"+(7-b-2)*\" \"+\"*\")\n",
    "            b-=1\n",
    "    else:\n",
    "        print((7-x)*\" \"+\"*\"+(x-2)*\" \"+\"*\")\n",
    "    x-=1"
   ]
  },
  {
   "cell_type": "code",
   "execution_count": 15,
   "id": "57a13467",
   "metadata": {},
   "outputs": [
    {
     "name": "stdout",
     "output_type": "stream",
     "text": [
      "         *          \n",
      "        * *         \n",
      "       *   *        \n",
      "      *     *       \n",
      "     *********      \n"
     ]
    }
   ],
   "source": [
    "x=10\n",
    "a=\"\"\n",
    "while x:\n",
    "    if (11-x)%2!=0:\n",
    "        if (11-x)==1 or x==2:\n",
    "            a=(11-x)*\"*\"\n",
    "            print(a.center(20,\" \"))\n",
    "        else:\n",
    "            a=\"*\"+((11-x)-2)*\" \"+\"*\"\n",
    "            print(a.center(20,\" \"))\n",
    "        \n",
    "    x=x-1"
   ]
  },
  {
   "cell_type": "code",
   "execution_count": 16,
   "id": "ee89709c",
   "metadata": {},
   "outputs": [
    {
     "name": "stdout",
     "output_type": "stream",
     "text": [
      "     *********      \n",
      "      *     *       \n",
      "       *   *        \n",
      "        * *         \n",
      "         *          \n"
     ]
    }
   ],
   "source": [
    "x=10\n",
    "a=\"\"\n",
    "while x:\n",
    "    if (x)%2!=0:\n",
    "        if x==9 or x==1:\n",
    "            a=(x)*\"*\"\n",
    "            print(a.center(20,\" \"))\n",
    "        else:\n",
    "            a=\"*\"+((x)-2)*\" \"+\"*\"\n",
    "            print(a.center(20,\" \"))\n",
    "        \n",
    "    x=x-1"
   ]
  },
  {
   "cell_type": "code",
   "execution_count": 17,
   "id": "a493cc08",
   "metadata": {},
   "outputs": [
    {
     "name": "stdout",
     "output_type": "stream",
     "text": [
      "         *          \n",
      "         **         \n",
      "        *  *        \n",
      "       *    *       \n",
      "      *      *      \n",
      "     *       *      \n",
      "      *     *       \n",
      "       *   *        \n",
      "        * *         \n",
      "         *          \n",
      "     *        *     \n"
     ]
    }
   ],
   "source": [
    "x=10\n",
    "b=x\n",
    "while x:\n",
    "    if (11-x)%2!=0:\n",
    "        if (11-x)==1:\n",
    "            a=(11-x)*\"*\"\n",
    "            print(a.center(20,\" \"))\n",
    "        elif x==2:\n",
    "                while b:\n",
    "                    if (b)%2!=0:\n",
    "                        if b==1:\n",
    "                            a=(b)*\"*\"\n",
    "                            print(a.center(20,\" \"))\n",
    "                        else:\n",
    "                            a=\"*\"+((b)-2)*\" \"+\"*\"\n",
    "                            print(a.center(20,\" \"))\n",
    "\n",
    "                    b=b-1\n",
    "    else:\n",
    "            a=\"*\"+((11-x)-2)*\" \"+\"*\"\n",
    "            print(a.center(20,\" \"))\n",
    "        \n",
    "    x=x-1"
   ]
  },
  {
   "cell_type": "code",
   "execution_count": 18,
   "id": "ffb684bc",
   "metadata": {},
   "outputs": [
    {
     "name": "stdout",
     "output_type": "stream",
     "text": [
      "     *********      \n",
      "      *     *       \n",
      "       *   *        \n",
      "        * *         \n",
      "         *          \n",
      "        * *         \n",
      "       *   *        \n",
      "      *     *       \n",
      "     *********      \n"
     ]
    }
   ],
   "source": [
    "x=10\n",
    "b=x\n",
    "while x:\n",
    "    if (x)%2!=0:\n",
    "        if x==9:\n",
    "            a=(x)*\"*\"\n",
    "            print(a.center(20,\" \"))\n",
    "        elif x==1:\n",
    "            while b:\n",
    "                if (11-b)%2!=0:\n",
    "                    if (11-b)==1 or b==2:\n",
    "                        a=(11-b)*\"*\"\n",
    "                        print(a.center(20,\" \"))\n",
    "                    else:\n",
    "                        a=\"*\"+((11-b)-2)*\" \"+\"*\"\n",
    "                        print(a.center(20,\" \"))\n",
    "\n",
    "                b=b-1\n",
    "        else:\n",
    "            a=\"*\"+((x)-2)*\" \"+\"*\"\n",
    "            print(a.center(20,\" \"))\n",
    "        \n",
    "    x=x-1"
   ]
  },
  {
   "cell_type": "code",
   "execution_count": 19,
   "id": "95c6c173",
   "metadata": {},
   "outputs": [
    {
     "name": "stdout",
     "output_type": "stream",
     "text": [
      "*****\n",
      "*****\n",
      "*****\n",
      "*****\n",
      "*****\n",
      "*****\n"
     ]
    }
   ],
   "source": [
    "x=6\n",
    "while x:\n",
    "    print(5*\"*\")\n",
    "    x-=1"
   ]
  },
  {
   "cell_type": "code",
   "execution_count": null,
   "id": "cc572c84",
   "metadata": {},
   "outputs": [],
   "source": []
  }
 ],
 "metadata": {
  "hide_input": false,
  "kernelspec": {
   "display_name": "Python 3 (ipykernel)",
   "language": "python",
   "name": "python3"
  },
  "language_info": {
   "codemirror_mode": {
    "name": "ipython",
    "version": 3
   },
   "file_extension": ".py",
   "mimetype": "text/x-python",
   "name": "python",
   "nbconvert_exporter": "python",
   "pygments_lexer": "ipython3",
   "version": "3.9.13"
  },
  "toc": {
   "base_numbering": 1,
   "nav_menu": {},
   "number_sections": true,
   "sideBar": true,
   "skip_h1_title": false,
   "title_cell": "Table of Contents",
   "title_sidebar": "Contents",
   "toc_cell": false,
   "toc_position": {},
   "toc_section_display": true,
   "toc_window_display": false
  }
 },
 "nbformat": 4,
 "nbformat_minor": 5
}
