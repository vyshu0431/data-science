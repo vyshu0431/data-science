{
 "cells": [
  {
   "cell_type": "code",
   "execution_count": 2,
   "id": "abd62bc0",
   "metadata": {},
   "outputs": [
    {
     "name": "stdout",
     "output_type": "stream",
     "text": [
      "1\n",
      "22\n",
      "333\n",
      "4444\n",
      "55555\n"
     ]
    }
   ],
   "source": [
    "for i in range(1,6):\n",
    "    print(i*str(i))"
   ]
  },
  {
   "cell_type": "code",
   "execution_count": 6,
   "id": "26fc653e",
   "metadata": {},
   "outputs": [
    {
     "name": "stdout",
     "output_type": "stream",
     "text": [
      "A\n",
      "BB\n",
      "CCC\n",
      "DDDD\n",
      "EEEEE\n"
     ]
    }
   ],
   "source": [
    "for i in range(1,6):\n",
    "    print(i*chr(64+i))"
   ]
  },
  {
   "cell_type": "code",
   "execution_count": 19,
   "id": "6a772c2c",
   "metadata": {},
   "outputs": [
    {
     "name": "stdout",
     "output_type": "stream",
     "text": [
      "1\n",
      "12\n",
      "123\n",
      "1234\n",
      "12345\n"
     ]
    }
   ],
   "source": [
    "# for i in range(1,6):\n",
    "#     a=\" \"\n",
    "#     for j in range(1,i+1):\n",
    "#         a=a+str(j)\n",
    "#     print(a)\n",
    "a=\"\"\n",
    "for i in range(1,6):\n",
    "    a=a+str(i)\n",
    "    print(a)"
   ]
  },
  {
   "cell_type": "code",
   "execution_count": 22,
   "id": "01aaf20d",
   "metadata": {},
   "outputs": [
    {
     "name": "stdout",
     "output_type": "stream",
     "text": [
      " A\n",
      " AB\n",
      " ABC\n",
      " ABCD\n",
      " ABCDE\n"
     ]
    }
   ],
   "source": [
    "a=\" \"\n",
    "for i in range(65,70):\n",
    "    a=a+chr(i)\n",
    "    print(a)\n",
    "    "
   ]
  },
  {
   "cell_type": "code",
   "execution_count": 28,
   "id": "c9c002d3",
   "metadata": {},
   "outputs": [
    {
     "name": "stdout",
     "output_type": "stream",
     "text": [
      "*\n",
      "**\n",
      "***\n",
      "****\n",
      "*****\n"
     ]
    }
   ],
   "source": [
    "a=\"\"\n",
    "for i in range(1,6):\n",
    "#     a=a+str(1*\"*\")\n",
    "    print(i*\"*\")"
   ]
  },
  {
   "cell_type": "code",
   "execution_count": 33,
   "id": "976f2c3e",
   "metadata": {},
   "outputs": [
    {
     "name": "stdout",
     "output_type": "stream",
     "text": [
      "    *\n",
      "   **\n",
      "  ***\n",
      " ****\n",
      "*****\n"
     ]
    }
   ],
   "source": [
    "for i in range(1,6,):\n",
    "    print((5-i)*\" \"+i*\"*\")"
   ]
  },
  {
   "cell_type": "code",
   "execution_count": 37,
   "id": "6f294f41",
   "metadata": {},
   "outputs": [
    {
     "name": "stdout",
     "output_type": "stream",
     "text": [
      "    1     \n",
      "   1 2    \n",
      "  1 2 3   \n",
      " 1 2 3 4  \n",
      "1 2 3 4 5 \n"
     ]
    }
   ],
   "source": [
    "a=\"\"\n",
    "for i in range(1,6):\n",
    "    a=a+str(i)+\" \"\n",
    "    print(a.center(10,\" \"))\n",
    "    "
   ]
  },
  {
   "cell_type": "code",
   "execution_count": 39,
   "id": "b92f5d39",
   "metadata": {},
   "outputs": [
    {
     "name": "stdout",
     "output_type": "stream",
     "text": [
      "    A     \n",
      "   A B    \n",
      "  A B C   \n",
      " A B C D  \n",
      "A B C D E \n"
     ]
    }
   ],
   "source": [
    "a=\"\"\n",
    "for i in range(65,70):\n",
    "    a=a+chr(i)+\" \"\n",
    "    print(a.center(10,\" \"))\n",
    "    "
   ]
  },
  {
   "cell_type": "code",
   "execution_count": 45,
   "id": "f0322a96",
   "metadata": {},
   "outputs": [
    {
     "name": "stdout",
     "output_type": "stream",
     "text": [
      "    1     \n",
      "   2 2    \n",
      "  3 3 3   \n",
      " 4 4 4 4  \n",
      "5 5 5 5 5 \n"
     ]
    }
   ],
   "source": [
    "a=\" \"\n",
    "for i in range(1,6):\n",
    "    a=\" \".join(i*str(i))\n",
    "    print(a.center(10))"
   ]
  },
  {
   "cell_type": "code",
   "execution_count": 89,
   "id": "026a7129",
   "metadata": {},
   "outputs": [
    {
     "name": "stdout",
     "output_type": "stream",
     "text": [
      "    E     \n",
      "   D D    \n",
      "  C C C   \n",
      " B B B B  \n",
      "A A A A A \n"
     ]
    }
   ],
   "source": [
    "a=\"\"\n",
    "for i in range(5,0,-1):\n",
    "    a=\" \".join((6-i)*chr(64+i))\n",
    "    print(a.center(10))"
   ]
  },
  {
   "cell_type": "markdown",
   "id": "d8c8baba",
   "metadata": {},
   "source": [
    " "
   ]
  },
  {
   "cell_type": "code",
   "execution_count": 101,
   "id": "5b7b774d",
   "metadata": {},
   "outputs": [
    {
     "name": "stdout",
     "output_type": "stream",
     "text": [
      "            *             \n",
      "          * * *           \n",
      "        * * * * *         \n",
      "      * * * * * * *       \n",
      "    * * * * * * * * *     \n"
     ]
    }
   ],
   "source": [
    "a=\"\"\n",
    "for i in range(1,10,2):\n",
    "    a=\" \".join(str(i*\"*\"))+\" \"\n",
    "    print(a.center(25)+\" \")"
   ]
  },
  {
   "cell_type": "code",
   "execution_count": 141,
   "id": "129bda45",
   "metadata": {},
   "outputs": [
    {
     "name": "stdout",
     "output_type": "stream",
     "text": [
      "12345\n",
      "1234\n",
      "123\n",
      "12\n",
      "1\n"
     ]
    }
   ],
   "source": [
    "for i in range(5,0,-1):\n",
    "    a=\"\"\n",
    "    for j in range(1,i+1):\n",
    "        a=a+str(j)\n",
    "    print(a)"
   ]
  },
  {
   "cell_type": "markdown",
   "id": "f51ca132",
   "metadata": {},
   "source": []
  },
  {
   "cell_type": "code",
   "execution_count": 159,
   "id": "db46d1a3",
   "metadata": {},
   "outputs": [
    {
     "name": "stdout",
     "output_type": "stream",
     "text": [
      "E \n",
      "E D \n",
      "E D C \n",
      "E D C B \n",
      "E D C B A \n"
     ]
    }
   ],
   "source": [
    "a=\"\"\n",
    "for i in range(5,0,-1):\n",
    "    a=a+chr(64+i)+\" \"\n",
    "    print(a)\n",
    "    "
   ]
  },
  {
   "cell_type": "code",
   "execution_count": 9,
   "id": "f5ebc57c",
   "metadata": {},
   "outputs": [
    {
     "name": "stdout",
     "output_type": "stream",
     "text": [
      "5 \n",
      "5 4 \n",
      "5 4 3 \n",
      "5 4 3 2 \n",
      "5 4 3 2 1 \n"
     ]
    }
   ],
   "source": [
    "a=\"\"\n",
    "for i in range(5,0,-1):\n",
    "    a=a+str(i)+\" \"\n",
    "    print(a)\n",
    "    "
   ]
  },
  {
   "cell_type": "markdown",
   "id": "06f15381",
   "metadata": {},
   "source": []
  },
  {
   "cell_type": "code",
   "execution_count": 77,
   "id": "1a5b74ba",
   "metadata": {},
   "outputs": [
    {
     "name": "stdout",
     "output_type": "stream",
     "text": [
      " 5 6 7 8 9 \n",
      " 5 6 7 8 \n",
      " 5 6 7 \n",
      " 5 6 \n",
      " 5 \n"
     ]
    }
   ],
   "source": [
    "for i in range(5,0,-1):\n",
    "    a=\" \"\n",
    "    for j in range(5,5+i):\n",
    "        a=a+str(j)+\" \"\n",
    "    print(a)"
   ]
  },
  {
   "cell_type": "code",
   "execution_count": 81,
   "id": "9a99b681",
   "metadata": {},
   "outputs": [
    {
     "name": "stdout",
     "output_type": "stream",
     "text": [
      "*****\n",
      "****\n",
      "***\n",
      "**\n",
      "*\n"
     ]
    }
   ],
   "source": [
    "for i in range(5,0,-1):\n",
    "    print(i*\"*\")"
   ]
  },
  {
   "cell_type": "code",
   "execution_count": 97,
   "id": "188e211c",
   "metadata": {},
   "outputs": [
    {
     "name": "stdout",
     "output_type": "stream",
     "text": [
      "    *\n",
      "   **\n",
      "  ***\n",
      " ****\n",
      "*****\n"
     ]
    }
   ],
   "source": [
    "for i in range(1,6):\n",
    "    print((5-i)*\" \"+i*\"*\")"
   ]
  },
  {
   "cell_type": "code",
   "execution_count": 101,
   "id": "e4606021",
   "metadata": {},
   "outputs": [
    {
     "name": "stdout",
     "output_type": "stream",
     "text": [
      "*****\n",
      " ****\n",
      "  ***\n",
      "   **\n",
      "    *\n"
     ]
    }
   ],
   "source": [
    "for i in range(5,0,-1):\n",
    "    print((5-i)*\" \"+i*\"*\")"
   ]
  },
  {
   "cell_type": "code",
   "execution_count": 106,
   "id": "beecc76c",
   "metadata": {},
   "outputs": [
    {
     "name": "stdout",
     "output_type": "stream",
     "text": [
      "    *\n",
      "   **\n",
      "  ***\n",
      " ****\n",
      "*****\n",
      " ****\n",
      "  ***\n",
      "   **\n",
      "    *\n"
     ]
    }
   ],
   "source": [
    "for i in range(1,6):\n",
    "    if i==5:\n",
    "        for j in range(5,0,-1):\n",
    "            print((5-j)*\" \"+j*\"*\")\n",
    "    else:\n",
    "        print((5-i)*\" \"+i*\"*\")"
   ]
  },
  {
   "cell_type": "code",
   "execution_count": 77,
   "id": "7bd8ceff",
   "metadata": {},
   "outputs": [
    {
     "name": "stdout",
     "output_type": "stream",
     "text": [
      "*\n",
      "**\n",
      "***\n",
      "****\n",
      "*****\n",
      "****\n",
      "***\n",
      "**\n",
      "*\n"
     ]
    }
   ],
   "source": [
    "for i in range(5,0,-1):\n",
    "    if i==5:\n",
    "        for j in range(1,6):\n",
    "            print(j*\"*\")\n",
    "    else:\n",
    "        print(i*\"*\")"
   ]
  },
  {
   "cell_type": "code",
   "execution_count": 7,
   "id": "1d4d0499",
   "metadata": {},
   "outputs": [
    {
     "name": "stdout",
     "output_type": "stream",
     "text": [
      "*****\n",
      " ****\n",
      "  ***\n",
      "   **\n",
      "    *\n",
      "   **\n",
      "  ***\n",
      " ****\n",
      "*****\n"
     ]
    }
   ],
   "source": [
    "for i in range(1,6):\n",
    "    if i==1:\n",
    "        for j in range(5,0,-1):\n",
    "            print((5-j)*\" \"+j*\"*\")\n",
    "    else:\n",
    "        print((5-i)*\" \"+i*\"*\")"
   ]
  },
  {
   "cell_type": "code",
   "execution_count": 3,
   "id": "d67ad660",
   "metadata": {},
   "outputs": [
    {
     "name": "stdout",
     "output_type": "stream",
     "text": [
      "          *********           \n",
      "           *******            \n",
      "            *****             \n",
      "             ***              \n",
      "              *               \n",
      "             ***              \n",
      "            *****             \n",
      "           *******            \n",
      "          *********           \n"
     ]
    }
   ],
   "source": [
    "a=\" \"\n",
    "for i in range(1,10,2):\n",
    "    if i==1:\n",
    "        for j in range(10-1,0,-2):\n",
    "            a=j*\"*\"\n",
    "            print(a.center(30,\" \"))\n",
    "    else:\n",
    "        a=i*\"*\"\n",
    "        print(a.center(30,\" \"))"
   ]
  },
  {
   "cell_type": "code",
   "execution_count": 6,
   "id": "b1baad46",
   "metadata": {},
   "outputs": [
    {
     "name": "stdout",
     "output_type": "stream",
     "text": [
      "*        *\n",
      "**      **\n",
      "***    ***\n",
      "****  ****\n",
      "**********\n"
     ]
    }
   ],
   "source": [
    "for i in range(1,6):\n",
    "    print(i*\"*\"+(6-(i+1))*\" \"+(6-(i+1))*\" \"+i*\"*\")"
   ]
  },
  {
   "cell_type": "code",
   "execution_count": 17,
   "id": "b7f439e3",
   "metadata": {},
   "outputs": [
    {
     "name": "stdout",
     "output_type": "stream",
     "text": [
      "**********\n",
      "****  ****\n",
      "***    ***\n",
      "**      **\n",
      "*        *\n"
     ]
    }
   ],
   "source": [
    "for i in range(5,0,-1):\n",
    "    print(i*\"*\"+(6-(i+1))*\" \"+(6-(i+1))*\" \"+i*\"*\")"
   ]
  },
  {
   "cell_type": "code",
   "execution_count": 7,
   "id": "da850b2d",
   "metadata": {},
   "outputs": [
    {
     "name": "stdout",
     "output_type": "stream",
     "text": [
      "**********\n",
      "****  ****\n",
      "***    ***\n",
      "**      **\n",
      "**********\n",
      "****  ****\n",
      "***    ***\n",
      "**      **\n",
      "*        *\n"
     ]
    }
   ],
   "source": [
    "for i in range(5,0,-1):\n",
    "    if i==1:\n",
    "        for i in range(5,0,-1):\n",
    "            print(i*\"*\"+(6-(i+1))*\" \"+(6-(i+1))*\" \"+i*\"*\")\n",
    "    else:\n",
    "        print(i*\"*\"+((i+1))*\" \"+(6-(i+1))*\" \"+i*\"*\")\n",
    "        \n",
    "            "
   ]
  },
  {
   "cell_type": "code",
   "execution_count": 4,
   "id": "bc7cd69c",
   "metadata": {},
   "outputs": [
    {
     "name": "stdout",
     "output_type": "stream",
     "text": [
      "5\n",
      "4\n",
      "3\n",
      "2\n",
      "1\n"
     ]
    }
   ],
   "source": [
    "for i in range(5,0,-1):\n",
    "    print(i)"
   ]
  },
  {
   "cell_type": "code",
   "execution_count": 5,
   "id": "fc355bcb",
   "metadata": {},
   "outputs": [
    {
     "name": "stdout",
     "output_type": "stream",
     "text": [
      "**********\n",
      "****  ****\n",
      "***    ***\n",
      "**      **\n",
      "*        *\n",
      "**      **\n",
      "***    ***\n",
      "****  ****\n",
      "**********\n"
     ]
    }
   ],
   "source": [
    "for i in range(5,0,-1):\n",
    "    if i==1:\n",
    "        for j in range(1,6):\n",
    "            print(j*\"*\"+(6-(j+1))*\" \"+(6-(j+1))*\" \"+j*\"*\")\n",
    "    else:\n",
    "        print(i*\"*\"+(6-(i+1))*\" \"+(6-(i+1))*\" \"+i*\"*\")\n",
    "        \n",
    "            "
   ]
  },
  {
   "cell_type": "code",
   "execution_count": null,
   "id": "e860f876",
   "metadata": {},
   "outputs": [],
   "source": []
  },
  {
   "cell_type": "code",
   "execution_count": null,
   "id": "45652169",
   "metadata": {},
   "outputs": [],
   "source": []
  },
  {
   "cell_type": "code",
   "execution_count": null,
   "id": "22053a3f",
   "metadata": {},
   "outputs": [],
   "source": []
  },
  {
   "cell_type": "code",
   "execution_count": 12,
   "id": "bb5443d9",
   "metadata": {},
   "outputs": [
    {
     "name": "stdout",
     "output_type": "stream",
     "text": [
      "          \n",
      "*        *\n",
      "**      **\n",
      "***    ***\n",
      "****  ****\n",
      "**********\n",
      "**********\n",
      "****  ****\n",
      "***    ***\n",
      "**      **\n",
      "*        *\n"
     ]
    }
   ],
   "source": [
    "for i in range(0,6):\n",
    "    print(i*\"*\"+(6-(i+1))*\" \"+(6-(i+1))*\" \"+i*\"*\")\n",
    "    if i==5:\n",
    "        for i in range(5,0,-1):\n",
    "             print(i*\"*\"+(6-(i+1))*\" \"+(6-(i+1))*\" \"+i*\"*\")\n",
    "            "
   ]
  },
  {
   "cell_type": "code",
   "execution_count": null,
   "id": "f1b341ea",
   "metadata": {},
   "outputs": [],
   "source": []
  },
  {
   "cell_type": "code",
   "execution_count": 20,
   "id": "38919c73",
   "metadata": {},
   "outputs": [
    {
     "name": "stdout",
     "output_type": "stream",
     "text": [
      "*\n",
      "**\n",
      "* *\n",
      "*  *\n",
      "*****\n"
     ]
    }
   ],
   "source": [
    "for i in range(1,6):\n",
    "    a=\"\"\n",
    "    if i==6-1:\n",
    "        a=a+i*\"*\"\n",
    "    else:\n",
    "        for j in range(1, i+1):\n",
    "            if j==1 or j==i:\n",
    "                a=a+\"*\"\n",
    "            else:\n",
    "                a=a+\" \"\n",
    "    print(a)"
   ]
  },
  {
   "cell_type": "code",
   "execution_count": 25,
   "id": "587046f3",
   "metadata": {},
   "outputs": [
    {
     "name": "stdout",
     "output_type": "stream",
     "text": [
      "     *\n",
      "    **\n",
      "   * *\n",
      "  *  *\n",
      " *****\n"
     ]
    }
   ],
   "source": [
    "for i in range(1,6):\n",
    "    a=\"\"\n",
    "    if i==6-1:\n",
    "        a=a+i*\"*\"\n",
    "    else:\n",
    "        for j in range(1, i+1):\n",
    "            if j==1 or j==i:\n",
    "                a=a+\"*\"\n",
    "            else:\n",
    "                a=a+\" \"\n",
    "    print((6-i)*\" \"+a)"
   ]
  },
  {
   "cell_type": "code",
   "execution_count": 33,
   "id": "db3ad181",
   "metadata": {},
   "outputs": [
    {
     "name": "stdout",
     "output_type": "stream",
     "text": [
      "*****\n",
      " *  *\n",
      "  * *\n",
      "   **\n",
      "    *\n",
      "   **\n",
      "  * *\n",
      " *  *\n",
      "*****\n"
     ]
    }
   ],
   "source": [
    "for i in range(6-1,0,-1):\n",
    "    data=\"\"\n",
    "    if i==1:\n",
    "        for k in range(1,6):\n",
    "            data = \"\"\n",
    "            if k == 6 - 1:\n",
    "                data = data + k * \"*\"\n",
    "            else:\n",
    "                for j in range(1, k + 1):\n",
    "                    if j == 1 or j == k:\n",
    "                        data = data + \"*\"\n",
    "                    else:\n",
    "                        data = data + \" \"\n",
    "            print((6- k-1) * \" \" + data)\n",
    "    elif i==6-1:\n",
    "        data=data+i*\"*\"\n",
    "        print((6-i-1)*\" \"+data)\n",
    "\n",
    "    else:\n",
    "        for j in range(1, i+1):\n",
    "            if j==1 or j==i:\n",
    "                data=data+\"*\"\n",
    "            else:\n",
    "                data=data+\" \"\n",
    "        print((6-i-1)*\" \"+data)"
   ]
  },
  {
   "cell_type": "code",
   "execution_count": null,
   "id": "d05493fa",
   "metadata": {},
   "outputs": [],
   "source": [
    "for i in range(1,6*2,2):\n",
    "    if i==1 or i==6*2-1:\n",
    "        star=i*\"*\"\n",
    "\n",
    "    else:     \n",
    "        star=\"*\"+(i-2)*\" \"+\"*\"\n",
    "    print(star.center(20,\" \"))"
   ]
  },
  {
   "cell_type": "code",
   "execution_count": null,
   "id": "ca57bbe4",
   "metadata": {},
   "outputs": [],
   "source": []
  },
  {
   "cell_type": "code",
   "execution_count": null,
   "id": "50006fad",
   "metadata": {},
   "outputs": [],
   "source": []
  },
  {
   "cell_type": "code",
   "execution_count": null,
   "id": "b45e173a",
   "metadata": {},
   "outputs": [],
   "source": []
  },
  {
   "cell_type": "code",
   "execution_count": null,
   "id": "1946d188",
   "metadata": {},
   "outputs": [],
   "source": []
  }
 ],
 "metadata": {
  "hide_input": false,
  "kernelspec": {
   "display_name": "Python 3 (ipykernel)",
   "language": "python",
   "name": "python3"
  },
  "language_info": {
   "codemirror_mode": {
    "name": "ipython",
    "version": 3
   },
   "file_extension": ".py",
   "mimetype": "text/x-python",
   "name": "python",
   "nbconvert_exporter": "python",
   "pygments_lexer": "ipython3",
   "version": "3.9.13"
  },
  "toc": {
   "base_numbering": 1,
   "nav_menu": {},
   "number_sections": true,
   "sideBar": true,
   "skip_h1_title": false,
   "title_cell": "Table of Contents",
   "title_sidebar": "Contents",
   "toc_cell": false,
   "toc_position": {},
   "toc_section_display": true,
   "toc_window_display": false
  }
 },
 "nbformat": 4,
 "nbformat_minor": 5
}
